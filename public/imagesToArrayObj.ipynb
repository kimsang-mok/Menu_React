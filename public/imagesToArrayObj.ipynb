{
 "cells": [
  {
   "cell_type": "code",
   "execution_count": 7,
   "metadata": {},
   "outputs": [],
   "source": [
    "import os\n",
    "\n",
    "# image_folder = \"./menu/\"  # Path to your image folder\n",
    "output_file = \"./image_arrays.js\"  # Path to the output JavaScript file\n",
    "\n",
    "\n",
    "def convertToArrayObjects (category, folder_path):\n",
    "    image_objects = []\n",
    "\n",
    "    # Iterate over each file in the folder\n",
    "    for filename in os.listdir(folder_path):\n",
    "        if filename.endswith(\".jpg\"):  # Consider only JPG files, you can modify the condition as per your requirement\n",
    "            item_name = os.path.splitext(filename)[0]  # Get the item name without the extension\n",
    "            item_path = os.path.join(folder_path, filename)  # Get the full path to the image\n",
    "            \n",
    "            # Create the object and append it to the list\n",
    "            image_objects.append({\"item_name\": item_name, \"item_path\": item_path})\n",
    "\n",
    "    # Convert the Python list to a JavaScript array of objects\n",
    "    js_array = \"[\"\n",
    "    for image_obj in image_objects:\n",
    "        js_array += \"{{item_name: '{}', item_path: '{}'}},\\n\".format(image_obj[\"item_name\"], image_obj[\"item_path\"])\n",
    "    js_array = js_array.rstrip(\",\\n\") + \"]\"\n",
    "\n",
    "    with open(output_file, \"w\") as file:\n",
    "        file.write('const ')\n",
    "        file.write(category)\n",
    "        file.write(' = ')\n",
    "        file.write(js_array)"
   ]
  },
  {
   "cell_type": "code",
   "execution_count": 8,
   "metadata": {},
   "outputs": [],
   "source": [
    "convertToArrayObjects('Menu', './images/menu/')"
   ]
  },
  {
   "cell_type": "code",
   "execution_count": null,
   "metadata": {},
   "outputs": [],
   "source": []
  }
 ],
 "metadata": {
  "kernelspec": {
   "display_name": "Python 3",
   "language": "python",
   "name": "python3"
  },
  "language_info": {
   "codemirror_mode": {
    "name": "ipython",
    "version": 3
   },
   "file_extension": ".py",
   "mimetype": "text/x-python",
   "name": "python",
   "nbconvert_exporter": "python",
   "pygments_lexer": "ipython3",
   "version": "3.10.9"
  },
  "orig_nbformat": 4
 },
 "nbformat": 4,
 "nbformat_minor": 2
}
